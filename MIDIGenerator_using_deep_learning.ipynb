{
  "nbformat": 4,
  "nbformat_minor": 0,
  "metadata": {
    "colab": {
      "provenance": []
    },
    "kernelspec": {
      "name": "python3",
      "display_name": "Python 3"
    },
    "language_info": {
      "name": "python"
    }
  },
  "cells": [
    {
      "cell_type": "markdown",
      "source": [
        "# Imports"
      ],
      "metadata": {
        "id": "XmbgMUW14bQ2"
      }
    },
    {
      "cell_type": "code",
      "source": [
        "\n",
        "from music21 import *\n",
        "import glob\n",
        "from tqdm import tqdm\n",
        "import numpy as np\n",
        "import random\n",
        "from tensorflow.keras.layers import LSTM,Dense,Input,Dropout\n",
        "from tensorflow.keras.models import Sequential,Model,load_model\n",
        "from sklearn.model_selection import train_test_split"
      ],
      "metadata": {
        "id": "uIN1n6nJ4e-1"
      },
      "execution_count": 1,
      "outputs": []
    },
    {
      "cell_type": "markdown",
      "source": [
        "# Reading MIDI files\n"
      ],
      "metadata": {
        "id": "vsnZXQEK4trE"
      }
    },
    {
      "cell_type": "code",
      "source": [
        "def read_files(file):\n",
        "    notes=[]\n",
        "    notes_to_parse=None\n",
        "    #parse the midi file\n",
        "    midi=converter.parse(file)\n",
        "    #seperate all instruments from the file\n",
        "    instrmt=instrument.partitionByInstrument(midi)\n",
        "\n",
        "    for part in instrmt.parts:\n",
        "        #fetch data only of Piano instrument\n",
        "        if 'Piano' in str(part):\n",
        "            # Indented this line to be inside the if block\n",
        "            notes_to_parse=part.recurse()\n",
        "\n",
        "        #iterate over all the parts of sub stream elements\n",
        "        #check if element's type is Note or chord\n",
        "        #if it is chord split them into notes\n",
        "        for element in notes_to_parse:\n",
        "            if type(element)==note.Note:\n",
        "                notes.append(str(element.pitch))\n",
        "            elif type(element)==chord.Chord:\n",
        "                notes.append('.'.join(str(n) for n in element.normalOrder))\n",
        "\n",
        "    #return the list of notes\n",
        "    return notes\n",
        "\n",
        "#retrieve paths recursively from inside the directories/files\n",
        "file_path=[\"schubert\"]\n",
        "all_files=glob.glob('All Midi Files/'+file_path[0]+'/*.mid',recursive=True)\n",
        "\n",
        "#reading each midi file\n",
        "notes_array = np.array([read_files(i) for i in tqdm(all_files,position=0,leave=True)])"
      ],
      "metadata": {
        "colab": {
          "base_uri": "https://localhost:8080/"
        },
        "id": "qcLOt1f44xUt",
        "outputId": "ad0d8ca9-97d7-4d4b-ed6e-b68e22ee79eb"
      },
      "execution_count": 3,
      "outputs": [
        {
          "output_type": "stream",
          "name": "stderr",
          "text": [
            "0it [00:00, ?it/s]\n"
          ]
        }
      ]
    },
    {
      "cell_type": "markdown",
      "source": [
        "# Reading notes"
      ],
      "metadata": {
        "id": "OMFXhLnf5Wb_"
      }
    },
    {
      "cell_type": "code",
      "source": [
        "#unique notes\n",
        "notess = sum(notes_array,[])\n",
        "unique_notes = list(set(notess))\n",
        "print(\"Unique Notes:\",len(unique_notes))\n",
        "\n",
        "#notes with their frequency\n",
        "freq=dict(map(lambda x: (x,notess.count(x)),unique_notes))\n",
        "\n",
        "#get the threshold frequency\n",
        "for i in range(30,100,20):\n",
        "    print(i,\":\",len(list(filter(lambda x:x[1]>=i,freq.items())))) # Indented this line to be inside the for loop"
      ],
      "metadata": {
        "colab": {
          "base_uri": "https://localhost:8080/"
        },
        "id": "gRoLjBXb42z9",
        "outputId": "7b147562-b247-4dec-8cc7-7306ca579356"
      },
      "execution_count": 5,
      "outputs": [
        {
          "output_type": "stream",
          "name": "stdout",
          "text": [
            "Unique Notes: 0\n",
            "30 : 0\n",
            "50 : 0\n",
            "70 : 0\n",
            "90 : 0\n"
          ]
        }
      ]
    },
    {
      "cell_type": "code",
      "source": [
        "#filter notes greater than threshold i.e. 50\n",
        "freq_notes=dict(filter(lambda x:x[1]>=50,freq.items()))\n",
        "\n",
        "#create new notes using the frequent notes\n",
        "new_notes=[[i for i in j if i in freq_notes] for j in notes_array]"
      ],
      "metadata": {
        "id": "ENdyeY6c5aCd"
      },
      "execution_count": 6,
      "outputs": []
    },
    {
      "cell_type": "code",
      "source": [
        "#dictionary having key as note index and value as note\n",
        "ind2note=dict(enumerate(freq_notes))\n",
        "\n",
        "#dictionary having key as note and value as note index\n",
        "note2ind=dict(map(reversed,ind2note.items()))"
      ],
      "metadata": {
        "id": "KICUTLAF5bLi"
      },
      "execution_count": 7,
      "outputs": []
    },
    {
      "cell_type": "code",
      "source": [
        "#timestep\n",
        "timesteps=50\n",
        "\n",
        "#store values of input and output\n",
        "x=[] ; y=[]\n",
        "\n",
        "for i in new_notes:\n",
        " for j in range(0,len(i)-timesteps):\n",
        "  #input will be the current index + timestep\n",
        "  #output will be the next index after timestep\n",
        "  inp=i[j:j+timesteps] ; out=i[j+timesteps]\n",
        "\n",
        "  #append the index value of respective notes\n",
        "  x.append(list(map(lambda x:note2ind[x],inp)))\n",
        "  y.append(note2ind[out])\n",
        "\n",
        "x_new=np.array(x)\n",
        "y_new=np.array(y)"
      ],
      "metadata": {
        "id": "ioDULLd75eGq"
      },
      "execution_count": 8,
      "outputs": []
    }
  ]
}