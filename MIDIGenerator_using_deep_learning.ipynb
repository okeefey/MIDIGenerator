{
  "cells": [
    {
      "cell_type": "markdown",
      "metadata": {
        "id": "view-in-github",
        "colab_type": "text"
      },
      "source": [
        "<a href=\"https://colab.research.google.com/github/okeefey/MIDIGenerator/blob/main/MIDIGenerator_using_deep_learning.ipynb\" target=\"_parent\"><img src=\"https://colab.research.google.com/assets/colab-badge.svg\" alt=\"Open In Colab\"/></a>"
      ]
    },
    {
      "cell_type": "markdown",
      "metadata": {
        "id": "XmbgMUW14bQ2"
      },
      "source": [
        "# Imports"
      ]
    },
    {
      "cell_type": "code",
      "execution_count": 3,
      "metadata": {
        "id": "uIN1n6nJ4e-1"
      },
      "outputs": [],
      "source": [
        "\n",
        "from music21 import *\n",
        "import glob\n",
        "from tqdm import tqdm\n",
        "import numpy as np\n",
        "import random\n",
        "from tensorflow.keras.layers import LSTM,Dense,Input,Dropout\n",
        "from tensorflow.keras.models import Sequential,Model,load_model\n",
        "from sklearn.model_selection import train_test_split\n",
        "\n"
      ]
    },
    {
      "cell_type": "markdown",
      "metadata": {
        "id": "vsnZXQEK4trE"
      },
      "source": [
        "# Reading MIDI files\n"
      ]
    },
    {
      "cell_type": "markdown",
      "metadata": {
        "id": "OMFXhLnf5Wb_"
      },
      "source": [
        "# Reading notes"
      ]
    },
    {
      "cell_type": "code",
      "execution_count": 4,
      "metadata": {
        "colab": {
          "base_uri": "https://localhost:8080/"
        },
        "id": "qcLOt1f44xUt",
        "outputId": "1ff53cf9-6151-4e39-a9f6-fcc7864ea704"
      },
      "outputs": [
        {
          "output_type": "stream",
          "name": "stdout",
          "text": [
            "Mounted at /content/drive\n",
            "Found 93 files.\n"
          ]
        },
        {
          "output_type": "stream",
          "name": "stderr",
          "text": [
            "  0%|          | 0/93 [00:00<?, ?it/s]/usr/local/lib/python3.11/dist-packages/music21/stream/base.py:3689: Music21DeprecationWarning: .flat is deprecated.  Call .flatten() instead\n",
            "  return self.iter().getElementsByClass(classFilterList)\n",
            "100%|██████████| 93/93 [00:30<00:00,  3.01it/s]\n"
          ]
        }
      ],
      "source": [
        "from google.colab import drive\n",
        "drive.mount('/content/drive')\n",
        "\n",
        "def read_files(file):\n",
        "    notes = []\n",
        "    try:\n",
        "        midi = converter.parse(file)\n",
        "        notes_to_parse = midi.flat.getElementsByClass([note.Note, chord.Chord])\n",
        "\n",
        "        for element in notes_to_parse:\n",
        "            if isinstance(element, note.Note):\n",
        "                notes.append(str(element.pitch))\n",
        "            elif isinstance(element, chord.Chord):\n",
        "                chord_notes = '.'.join(str(pitch) for pitch in element.pitches)\n",
        "                notes.append(chord_notes)\n",
        "    except Exception as e:\n",
        "        print(f\"Error processing {file}: {e}\")\n",
        "    return notes\n",
        "\n",
        "all_files = glob.glob('/content/drive/MyDrive/All Midi Files/**/*.mid', recursive=True)\n",
        "print(f\"Found {len(all_files)} files.\")\n",
        "\n",
        "notes_list = [read_files(file) for file in tqdm(all_files, position=0, leave=True)]"
      ]
    },
    {
      "cell_type": "code",
      "execution_count": 5,
      "metadata": {
        "colab": {
          "base_uri": "https://localhost:8080/"
        },
        "id": "gRoLjBXb42z9",
        "outputId": "43345e7e-30e5-4d94-f2d7-d5fc512df814"
      },
      "outputs": [
        {
          "output_type": "stream",
          "name": "stdout",
          "text": [
            "Unique Notes: 557\n"
          ]
        }
      ],
      "source": [
        "\n",
        "notess = sum(notes_list, [])  # Flatten the list of lists\n",
        "unique_notes = list(set(notess))\n",
        "print(\"Unique Notes:\", len(unique_notes))\n",
        "\n",
        "# Calculate frequency using Counter\n",
        "from collections import Counter\n",
        "freq = Counter(notess)\n",
        "\n",
        "for i in range(10, 50, 10):\n",
        "    count = sum(1 for cnt in freq.values() if cnt >= i)"
      ]
    },
    {
      "cell_type": "markdown",
      "metadata": {
        "id": "ZLN4euWr_n3F"
      },
      "source": [
        "### Threshold"
      ]
    },
    {
      "cell_type": "code",
      "execution_count": 6,
      "metadata": {
        "id": "bYOPc_cCQXhz"
      },
      "outputs": [],
      "source": [
        "\n",
        "freq_notes=dict(filter(lambda x:x[1]>=5,freq.items()))\n",
        "\n",
        "\n",
        "new_notes=[[i for i in j if i in freq_notes] for j in notes_list]"
      ]
    },
    {
      "cell_type": "code",
      "execution_count": 7,
      "metadata": {
        "id": "Q7GbWZj9_yvx"
      },
      "outputs": [],
      "source": [
        "ind2note=dict(enumerate(freq_notes))\n",
        "\n",
        "note2ind=dict(map(reversed,ind2note.items()))"
      ]
    },
    {
      "cell_type": "markdown",
      "metadata": {
        "id": "-4AMZlOVAYgd"
      },
      "source": [
        "# Timestep\n",
        "\n",
        "#### Every x notes will output one note"
      ]
    },
    {
      "cell_type": "code",
      "execution_count": 8,
      "metadata": {
        "id": "iSPFfJOu_zv1"
      },
      "outputs": [],
      "source": [
        "\n",
        "timesteps=50\n",
        "\n",
        "\n",
        "x=[] ; y=[]\n",
        "\n",
        "for i in new_notes:\n",
        " for j in range(0,len(i)-timesteps):\n",
        "  #input will be the current index + timestep\n",
        "  #output will be the next index after timestep\n",
        "  inp=i[j:j+timesteps] ; out=i[j+timesteps]\n",
        "\n",
        "  #append the index value of respective notes\n",
        "  x.append(list(map(lambda x:note2ind[x],inp)))\n",
        "  y.append(note2ind[out])\n",
        "\n",
        "x_new=np.array(x)\n",
        "y_new=np.array(y)"
      ]
    },
    {
      "cell_type": "code",
      "execution_count": 9,
      "metadata": {
        "id": "rz9BoxJGAgX_"
      },
      "outputs": [],
      "source": [
        "x_new = np.reshape(x_new,(len(x_new),timesteps,1))\n",
        "y_new = np.reshape(y_new,(-1,1))\n",
        "\n",
        "#80% for training and 20% for testing sets\n",
        "x_train,x_test,y_train,y_test = train_test_split(x_new,y_new,test_size=0.2,random_state=42)\n"
      ]
    },
    {
      "cell_type": "code",
      "execution_count": 10,
      "metadata": {
        "colab": {
          "base_uri": "https://localhost:8080/",
          "height": 386
        },
        "id": "RjgbICc6Av6s",
        "outputId": "07ceec6c-9bd3-4c1f-f88f-7749cad890eb"
      },
      "outputs": [
        {
          "output_type": "stream",
          "name": "stderr",
          "text": [
            "/usr/local/lib/python3.11/dist-packages/keras/src/layers/rnn/rnn.py:200: UserWarning: Do not pass an `input_shape`/`input_dim` argument to a layer. When using Sequential models, prefer using an `Input(shape)` object as the first layer in the model instead.\n",
            "  super().__init__(**kwargs)\n"
          ]
        },
        {
          "output_type": "display_data",
          "data": {
            "text/plain": [
              "\u001b[1mModel: \"sequential\"\u001b[0m\n"
            ],
            "text/html": [
              "<pre style=\"white-space:pre;overflow-x:auto;line-height:normal;font-family:Menlo,'DejaVu Sans Mono',consolas,'Courier New',monospace\"><span style=\"font-weight: bold\">Model: \"sequential\"</span>\n",
              "</pre>\n"
            ]
          },
          "metadata": {}
        },
        {
          "output_type": "display_data",
          "data": {
            "text/plain": [
              "┏━━━━━━━━━━━━━━━━━━━━━━━━━━━━━━━━━┳━━━━━━━━━━━━━━━━━━━━━━━━┳━━━━━━━━━━━━━━━┓\n",
              "┃\u001b[1m \u001b[0m\u001b[1mLayer (type)                   \u001b[0m\u001b[1m \u001b[0m┃\u001b[1m \u001b[0m\u001b[1mOutput Shape          \u001b[0m\u001b[1m \u001b[0m┃\u001b[1m \u001b[0m\u001b[1m      Param #\u001b[0m\u001b[1m \u001b[0m┃\n",
              "┡━━━━━━━━━━━━━━━━━━━━━━━━━━━━━━━━━╇━━━━━━━━━━━━━━━━━━━━━━━━╇━━━━━━━━━━━━━━━┩\n",
              "│ lstm (\u001b[38;5;33mLSTM\u001b[0m)                     │ (\u001b[38;5;45mNone\u001b[0m, \u001b[38;5;34m50\u001b[0m, \u001b[38;5;34m128\u001b[0m)        │        \u001b[38;5;34m66,560\u001b[0m │\n",
              "├─────────────────────────────────┼────────────────────────┼───────────────┤\n",
              "│ dropout (\u001b[38;5;33mDropout\u001b[0m)               │ (\u001b[38;5;45mNone\u001b[0m, \u001b[38;5;34m50\u001b[0m, \u001b[38;5;34m128\u001b[0m)        │             \u001b[38;5;34m0\u001b[0m │\n",
              "├─────────────────────────────────┼────────────────────────┼───────────────┤\n",
              "│ lstm_1 (\u001b[38;5;33mLSTM\u001b[0m)                   │ (\u001b[38;5;45mNone\u001b[0m, \u001b[38;5;34m128\u001b[0m)            │       \u001b[38;5;34m131,584\u001b[0m │\n",
              "├─────────────────────────────────┼────────────────────────┼───────────────┤\n",
              "│ dropout_1 (\u001b[38;5;33mDropout\u001b[0m)             │ (\u001b[38;5;45mNone\u001b[0m, \u001b[38;5;34m128\u001b[0m)            │             \u001b[38;5;34m0\u001b[0m │\n",
              "├─────────────────────────────────┼────────────────────────┼───────────────┤\n",
              "│ dense (\u001b[38;5;33mDense\u001b[0m)                   │ (\u001b[38;5;45mNone\u001b[0m, \u001b[38;5;34m128\u001b[0m)            │        \u001b[38;5;34m16,512\u001b[0m │\n",
              "├─────────────────────────────────┼────────────────────────┼───────────────┤\n",
              "│ dense_1 (\u001b[38;5;33mDense\u001b[0m)                 │ (\u001b[38;5;45mNone\u001b[0m, \u001b[38;5;34m65\u001b[0m)             │         \u001b[38;5;34m8,385\u001b[0m │\n",
              "└─────────────────────────────────┴────────────────────────┴───────────────┘\n"
            ],
            "text/html": [
              "<pre style=\"white-space:pre;overflow-x:auto;line-height:normal;font-family:Menlo,'DejaVu Sans Mono',consolas,'Courier New',monospace\">┏━━━━━━━━━━━━━━━━━━━━━━━━━━━━━━━━━┳━━━━━━━━━━━━━━━━━━━━━━━━┳━━━━━━━━━━━━━━━┓\n",
              "┃<span style=\"font-weight: bold\"> Layer (type)                    </span>┃<span style=\"font-weight: bold\"> Output Shape           </span>┃<span style=\"font-weight: bold\">       Param # </span>┃\n",
              "┡━━━━━━━━━━━━━━━━━━━━━━━━━━━━━━━━━╇━━━━━━━━━━━━━━━━━━━━━━━━╇━━━━━━━━━━━━━━━┩\n",
              "│ lstm (<span style=\"color: #0087ff; text-decoration-color: #0087ff\">LSTM</span>)                     │ (<span style=\"color: #00d7ff; text-decoration-color: #00d7ff\">None</span>, <span style=\"color: #00af00; text-decoration-color: #00af00\">50</span>, <span style=\"color: #00af00; text-decoration-color: #00af00\">128</span>)        │        <span style=\"color: #00af00; text-decoration-color: #00af00\">66,560</span> │\n",
              "├─────────────────────────────────┼────────────────────────┼───────────────┤\n",
              "│ dropout (<span style=\"color: #0087ff; text-decoration-color: #0087ff\">Dropout</span>)               │ (<span style=\"color: #00d7ff; text-decoration-color: #00d7ff\">None</span>, <span style=\"color: #00af00; text-decoration-color: #00af00\">50</span>, <span style=\"color: #00af00; text-decoration-color: #00af00\">128</span>)        │             <span style=\"color: #00af00; text-decoration-color: #00af00\">0</span> │\n",
              "├─────────────────────────────────┼────────────────────────┼───────────────┤\n",
              "│ lstm_1 (<span style=\"color: #0087ff; text-decoration-color: #0087ff\">LSTM</span>)                   │ (<span style=\"color: #00d7ff; text-decoration-color: #00d7ff\">None</span>, <span style=\"color: #00af00; text-decoration-color: #00af00\">128</span>)            │       <span style=\"color: #00af00; text-decoration-color: #00af00\">131,584</span> │\n",
              "├─────────────────────────────────┼────────────────────────┼───────────────┤\n",
              "│ dropout_1 (<span style=\"color: #0087ff; text-decoration-color: #0087ff\">Dropout</span>)             │ (<span style=\"color: #00d7ff; text-decoration-color: #00d7ff\">None</span>, <span style=\"color: #00af00; text-decoration-color: #00af00\">128</span>)            │             <span style=\"color: #00af00; text-decoration-color: #00af00\">0</span> │\n",
              "├─────────────────────────────────┼────────────────────────┼───────────────┤\n",
              "│ dense (<span style=\"color: #0087ff; text-decoration-color: #0087ff\">Dense</span>)                   │ (<span style=\"color: #00d7ff; text-decoration-color: #00d7ff\">None</span>, <span style=\"color: #00af00; text-decoration-color: #00af00\">128</span>)            │        <span style=\"color: #00af00; text-decoration-color: #00af00\">16,512</span> │\n",
              "├─────────────────────────────────┼────────────────────────┼───────────────┤\n",
              "│ dense_1 (<span style=\"color: #0087ff; text-decoration-color: #0087ff\">Dense</span>)                 │ (<span style=\"color: #00d7ff; text-decoration-color: #00d7ff\">None</span>, <span style=\"color: #00af00; text-decoration-color: #00af00\">65</span>)             │         <span style=\"color: #00af00; text-decoration-color: #00af00\">8,385</span> │\n",
              "└─────────────────────────────────┴────────────────────────┴───────────────┘\n",
              "</pre>\n"
            ]
          },
          "metadata": {}
        },
        {
          "output_type": "display_data",
          "data": {
            "text/plain": [
              "\u001b[1m Total params: \u001b[0m\u001b[38;5;34m223,041\u001b[0m (871.25 KB)\n"
            ],
            "text/html": [
              "<pre style=\"white-space:pre;overflow-x:auto;line-height:normal;font-family:Menlo,'DejaVu Sans Mono',consolas,'Courier New',monospace\"><span style=\"font-weight: bold\"> Total params: </span><span style=\"color: #00af00; text-decoration-color: #00af00\">223,041</span> (871.25 KB)\n",
              "</pre>\n"
            ]
          },
          "metadata": {}
        },
        {
          "output_type": "display_data",
          "data": {
            "text/plain": [
              "\u001b[1m Trainable params: \u001b[0m\u001b[38;5;34m223,041\u001b[0m (871.25 KB)\n"
            ],
            "text/html": [
              "<pre style=\"white-space:pre;overflow-x:auto;line-height:normal;font-family:Menlo,'DejaVu Sans Mono',consolas,'Courier New',monospace\"><span style=\"font-weight: bold\"> Trainable params: </span><span style=\"color: #00af00; text-decoration-color: #00af00\">223,041</span> (871.25 KB)\n",
              "</pre>\n"
            ]
          },
          "metadata": {}
        },
        {
          "output_type": "display_data",
          "data": {
            "text/plain": [
              "\u001b[1m Non-trainable params: \u001b[0m\u001b[38;5;34m0\u001b[0m (0.00 B)\n"
            ],
            "text/html": [
              "<pre style=\"white-space:pre;overflow-x:auto;line-height:normal;font-family:Menlo,'DejaVu Sans Mono',consolas,'Courier New',monospace\"><span style=\"font-weight: bold\"> Non-trainable params: </span><span style=\"color: #00af00; text-decoration-color: #00af00\">0</span> (0.00 B)\n",
              "</pre>\n"
            ]
          },
          "metadata": {}
        }
      ],
      "source": [
        "model = Sequential()\n",
        "model.add(LSTM(128,return_sequences=True,input_shape=(x_new.shape[1],x_new.shape[2])))\n",
        "model.add(Dropout(0.2))\n",
        "model.add(LSTM(128))\n",
        "model.add(Dropout(0.2))\n",
        "model.add(Dense(128,activation='relu'))\n",
        "model.add(Dense(len(note2ind),activation='softmax'))\n",
        "model.summary()"
      ]
    },
    {
      "cell_type": "markdown",
      "metadata": {
        "id": "8t_it_gPBK9_"
      },
      "source": [
        "# Model Training"
      ]
    },
    {
      "cell_type": "code",
      "execution_count": 11,
      "metadata": {
        "colab": {
          "base_uri": "https://localhost:8080/"
        },
        "id": "e3348GriA6ji",
        "outputId": "055405bb-5aab-4630-d41b-98c6d2f40a08"
      },
      "outputs": [
        {
          "output_type": "stream",
          "name": "stdout",
          "text": [
            "Epoch 1/120\n",
            "\u001b[1m1/1\u001b[0m \u001b[32m━━━━━━━━━━━━━━━━━━━━\u001b[0m\u001b[37m\u001b[0m \u001b[1m5s\u001b[0m 5s/step - accuracy: 0.0130 - loss: 4.1988 - val_accuracy: 0.1000 - val_loss: 4.1304\n",
            "Epoch 2/120\n",
            "\u001b[1m1/1\u001b[0m \u001b[32m━━━━━━━━━━━━━━━━━━━━\u001b[0m\u001b[37m\u001b[0m \u001b[1m1s\u001b[0m 575ms/step - accuracy: 0.1169 - loss: 4.0652 - val_accuracy: 0.1000 - val_loss: 4.0691\n",
            "Epoch 3/120\n",
            "\u001b[1m1/1\u001b[0m \u001b[32m━━━━━━━━━━━━━━━━━━━━\u001b[0m\u001b[37m\u001b[0m \u001b[1m1s\u001b[0m 564ms/step - accuracy: 0.0909 - loss: 3.9427 - val_accuracy: 0.1000 - val_loss: 3.9970\n",
            "Epoch 4/120\n",
            "\u001b[1m1/1\u001b[0m \u001b[32m━━━━━━━━━━━━━━━━━━━━\u001b[0m\u001b[37m\u001b[0m \u001b[1m1s\u001b[0m 608ms/step - accuracy: 0.1429 - loss: 3.8358 - val_accuracy: 0.1000 - val_loss: 3.9169\n",
            "Epoch 5/120\n",
            "\u001b[1m1/1\u001b[0m \u001b[32m━━━━━━━━━━━━━━━━━━━━\u001b[0m\u001b[37m\u001b[0m \u001b[1m1s\u001b[0m 563ms/step - accuracy: 0.1429 - loss: 3.6995 - val_accuracy: 0.1000 - val_loss: 3.8423\n",
            "Epoch 6/120\n",
            "\u001b[1m1/1\u001b[0m \u001b[32m━━━━━━━━━━━━━━━━━━━━\u001b[0m\u001b[37m\u001b[0m \u001b[1m1s\u001b[0m 581ms/step - accuracy: 0.1429 - loss: 3.5653 - val_accuracy: 0.1000 - val_loss: 3.7731\n",
            "Epoch 7/120\n",
            "\u001b[1m1/1\u001b[0m \u001b[32m━━━━━━━━━━━━━━━━━━━━\u001b[0m\u001b[37m\u001b[0m \u001b[1m1s\u001b[0m 617ms/step - accuracy: 0.1299 - loss: 3.4104 - val_accuracy: 0.1000 - val_loss: 3.7150\n",
            "Epoch 8/120\n",
            "\u001b[1m1/1\u001b[0m \u001b[32m━━━━━━━━━━━━━━━━━━━━\u001b[0m\u001b[37m\u001b[0m \u001b[1m0s\u001b[0m 412ms/step - accuracy: 0.1299 - loss: 3.2996 - val_accuracy: 0.1000 - val_loss: 3.6736\n",
            "Epoch 9/120\n",
            "\u001b[1m1/1\u001b[0m \u001b[32m━━━━━━━━━━━━━━━━━━━━\u001b[0m\u001b[37m\u001b[0m \u001b[1m0s\u001b[0m 318ms/step - accuracy: 0.1169 - loss: 3.2194 - val_accuracy: 0.1000 - val_loss: 3.6496\n",
            "Epoch 10/120\n",
            "\u001b[1m1/1\u001b[0m \u001b[32m━━━━━━━━━━━━━━━━━━━━\u001b[0m\u001b[37m\u001b[0m \u001b[1m0s\u001b[0m 315ms/step - accuracy: 0.1429 - loss: 3.0799 - val_accuracy: 0.1000 - val_loss: 3.6391\n",
            "Epoch 11/120\n",
            "\u001b[1m1/1\u001b[0m \u001b[32m━━━━━━━━━━━━━━━━━━━━\u001b[0m\u001b[37m\u001b[0m \u001b[1m0s\u001b[0m 307ms/step - accuracy: 0.1169 - loss: 3.1197 - val_accuracy: 0.1000 - val_loss: 3.6319\n",
            "Epoch 12/120\n",
            "\u001b[1m1/1\u001b[0m \u001b[32m━━━━━━━━━━━━━━━━━━━━\u001b[0m\u001b[37m\u001b[0m \u001b[1m1s\u001b[0m 624ms/step - accuracy: 0.1169 - loss: 3.0373 - val_accuracy: 0.1000 - val_loss: 3.6264\n",
            "Epoch 13/120\n",
            "\u001b[1m1/1\u001b[0m \u001b[32m━━━━━━━━━━━━━━━━━━━━\u001b[0m\u001b[37m\u001b[0m \u001b[1m0s\u001b[0m 319ms/step - accuracy: 0.1688 - loss: 2.9569 - val_accuracy: 0.1000 - val_loss: 3.6200\n",
            "Epoch 14/120\n",
            "\u001b[1m1/1\u001b[0m \u001b[32m━━━━━━━━━━━━━━━━━━━━\u001b[0m\u001b[37m\u001b[0m \u001b[1m0s\u001b[0m 312ms/step - accuracy: 0.1039 - loss: 3.0031 - val_accuracy: 0.1000 - val_loss: 3.6006\n",
            "Epoch 15/120\n",
            "\u001b[1m1/1\u001b[0m \u001b[32m━━━━━━━━━━━━━━━━━━━━\u001b[0m\u001b[37m\u001b[0m \u001b[1m0s\u001b[0m 340ms/step - accuracy: 0.1299 - loss: 2.9797 - val_accuracy: 0.1000 - val_loss: 3.5671\n",
            "Epoch 16/120\n",
            "\u001b[1m1/1\u001b[0m \u001b[32m━━━━━━━━━━━━━━━━━━━━\u001b[0m\u001b[37m\u001b[0m \u001b[1m0s\u001b[0m 303ms/step - accuracy: 0.1169 - loss: 2.8882 - val_accuracy: 0.1000 - val_loss: 3.5178\n",
            "Epoch 17/120\n",
            "\u001b[1m1/1\u001b[0m \u001b[32m━━━━━━━━━━━━━━━━━━━━\u001b[0m\u001b[37m\u001b[0m \u001b[1m0s\u001b[0m 304ms/step - accuracy: 0.1039 - loss: 2.8856 - val_accuracy: 0.1000 - val_loss: 3.4578\n",
            "Epoch 18/120\n",
            "\u001b[1m1/1\u001b[0m \u001b[32m━━━━━━━━━━━━━━━━━━━━\u001b[0m\u001b[37m\u001b[0m \u001b[1m0s\u001b[0m 323ms/step - accuracy: 0.1429 - loss: 2.8775 - val_accuracy: 0.1000 - val_loss: 3.3951\n",
            "Epoch 19/120\n",
            "\u001b[1m1/1\u001b[0m \u001b[32m━━━━━━━━━━━━━━━━━━━━\u001b[0m\u001b[37m\u001b[0m \u001b[1m0s\u001b[0m 321ms/step - accuracy: 0.0909 - loss: 2.8409 - val_accuracy: 0.1000 - val_loss: 3.3277\n",
            "Epoch 20/120\n",
            "\u001b[1m1/1\u001b[0m \u001b[32m━━━━━━━━━━━━━━━━━━━━\u001b[0m\u001b[37m\u001b[0m \u001b[1m0s\u001b[0m 325ms/step - accuracy: 0.1169 - loss: 2.8082 - val_accuracy: 0.1000 - val_loss: 3.2589\n",
            "Epoch 21/120\n",
            "\u001b[1m1/1\u001b[0m \u001b[32m━━━━━━━━━━━━━━━━━━━━\u001b[0m\u001b[37m\u001b[0m \u001b[1m1s\u001b[0m 604ms/step - accuracy: 0.1299 - loss: 2.8219 - val_accuracy: 0.0500 - val_loss: 3.1911\n",
            "Epoch 22/120\n",
            "\u001b[1m1/1\u001b[0m \u001b[32m━━━━━━━━━━━━━━━━━━━━\u001b[0m\u001b[37m\u001b[0m \u001b[1m0s\u001b[0m 302ms/step - accuracy: 0.1169 - loss: 2.7860 - val_accuracy: 0.1000 - val_loss: 3.1292\n",
            "Epoch 23/120\n",
            "\u001b[1m1/1\u001b[0m \u001b[32m━━━━━━━━━━━━━━━━━━━━\u001b[0m\u001b[37m\u001b[0m \u001b[1m0s\u001b[0m 293ms/step - accuracy: 0.1299 - loss: 2.7604 - val_accuracy: 0.1000 - val_loss: 3.0781\n",
            "Epoch 24/120\n",
            "\u001b[1m1/1\u001b[0m \u001b[32m━━━━━━━━━━━━━━━━━━━━\u001b[0m\u001b[37m\u001b[0m \u001b[1m0s\u001b[0m 338ms/step - accuracy: 0.1299 - loss: 2.7262 - val_accuracy: 0.1000 - val_loss: 3.0356\n",
            "Epoch 25/120\n",
            "\u001b[1m1/1\u001b[0m \u001b[32m━━━━━━━━━━━━━━━━━━━━\u001b[0m\u001b[37m\u001b[0m \u001b[1m1s\u001b[0m 589ms/step - accuracy: 0.1818 - loss: 2.6785 - val_accuracy: 0.1000 - val_loss: 3.0005\n",
            "Epoch 26/120\n",
            "\u001b[1m1/1\u001b[0m \u001b[32m━━━━━━━━━━━━━━━━━━━━\u001b[0m\u001b[37m\u001b[0m \u001b[1m0s\u001b[0m 328ms/step - accuracy: 0.1169 - loss: 2.7703 - val_accuracy: 0.1500 - val_loss: 2.9699\n",
            "Epoch 27/120\n",
            "\u001b[1m1/1\u001b[0m \u001b[32m━━━━━━━━━━━━━━━━━━━━\u001b[0m\u001b[37m\u001b[0m \u001b[1m0s\u001b[0m 300ms/step - accuracy: 0.1558 - loss: 2.7296 - val_accuracy: 0.1000 - val_loss: 2.9447\n",
            "Epoch 28/120\n",
            "\u001b[1m1/1\u001b[0m \u001b[32m━━━━━━━━━━━━━━━━━━━━\u001b[0m\u001b[37m\u001b[0m \u001b[1m0s\u001b[0m 310ms/step - accuracy: 0.2597 - loss: 2.6382 - val_accuracy: 0.1000 - val_loss: 2.9202\n",
            "Epoch 29/120\n",
            "\u001b[1m1/1\u001b[0m \u001b[32m━━━━━━━━━━━━━━━━━━━━\u001b[0m\u001b[37m\u001b[0m \u001b[1m0s\u001b[0m 313ms/step - accuracy: 0.2078 - loss: 2.6833 - val_accuracy: 0.1000 - val_loss: 2.8982\n",
            "Epoch 30/120\n",
            "\u001b[1m1/1\u001b[0m \u001b[32m━━━━━━━━━━━━━━━━━━━━\u001b[0m\u001b[37m\u001b[0m \u001b[1m1s\u001b[0m 603ms/step - accuracy: 0.1558 - loss: 2.6373 - val_accuracy: 0.1000 - val_loss: 2.8766\n",
            "Epoch 31/120\n",
            "\u001b[1m1/1\u001b[0m \u001b[32m━━━━━━━━━━━━━━━━━━━━\u001b[0m\u001b[37m\u001b[0m \u001b[1m0s\u001b[0m 308ms/step - accuracy: 0.1558 - loss: 2.6119 - val_accuracy: 0.1500 - val_loss: 2.8619\n",
            "Epoch 32/120\n",
            "\u001b[1m1/1\u001b[0m \u001b[32m━━━━━━━━━━━━━━━━━━━━\u001b[0m\u001b[37m\u001b[0m \u001b[1m1s\u001b[0m 610ms/step - accuracy: 0.1558 - loss: 2.6202 - val_accuracy: 0.1000 - val_loss: 2.8504\n",
            "Epoch 33/120\n",
            "\u001b[1m1/1\u001b[0m \u001b[32m━━━━━━━━━━━━━━━━━━━━\u001b[0m\u001b[37m\u001b[0m \u001b[1m0s\u001b[0m 314ms/step - accuracy: 0.2208 - loss: 2.5637 - val_accuracy: 0.1000 - val_loss: 2.8360\n",
            "Epoch 34/120\n",
            "\u001b[1m1/1\u001b[0m \u001b[32m━━━━━━━━━━━━━━━━━━━━\u001b[0m\u001b[37m\u001b[0m \u001b[1m0s\u001b[0m 439ms/step - accuracy: 0.2208 - loss: 2.5651 - val_accuracy: 0.1000 - val_loss: 2.8288\n",
            "Epoch 35/120\n",
            "\u001b[1m1/1\u001b[0m \u001b[32m━━━━━━━━━━━━━━━━━━━━\u001b[0m\u001b[37m\u001b[0m \u001b[1m1s\u001b[0m 677ms/step - accuracy: 0.2208 - loss: 2.5746 - val_accuracy: 0.1000 - val_loss: 2.7996\n",
            "Epoch 36/120\n",
            "\u001b[1m1/1\u001b[0m \u001b[32m━━━━━━━━━━━━━━━━━━━━\u001b[0m\u001b[37m\u001b[0m \u001b[1m1s\u001b[0m 526ms/step - accuracy: 0.1688 - loss: 2.5519 - val_accuracy: 0.1000 - val_loss: 2.7764\n",
            "Epoch 37/120\n",
            "\u001b[1m1/1\u001b[0m \u001b[32m━━━━━━━━━━━━━━━━━━━━\u001b[0m\u001b[37m\u001b[0m \u001b[1m1s\u001b[0m 684ms/step - accuracy: 0.2208 - loss: 2.5136 - val_accuracy: 0.1500 - val_loss: 2.7735\n",
            "Epoch 38/120\n",
            "\u001b[1m1/1\u001b[0m \u001b[32m━━━━━━━━━━━━━━━━━━━━\u001b[0m\u001b[37m\u001b[0m \u001b[1m1s\u001b[0m 610ms/step - accuracy: 0.1688 - loss: 2.5322 - val_accuracy: 0.1500 - val_loss: 2.7416\n",
            "Epoch 39/120\n",
            "\u001b[1m1/1\u001b[0m \u001b[32m━━━━━━━━━━━━━━━━━━━━\u001b[0m\u001b[37m\u001b[0m \u001b[1m1s\u001b[0m 596ms/step - accuracy: 0.2078 - loss: 2.5167 - val_accuracy: 0.1000 - val_loss: 2.7380\n",
            "Epoch 40/120\n",
            "\u001b[1m1/1\u001b[0m \u001b[32m━━━━━━━━━━━━━━━━━━━━\u001b[0m\u001b[37m\u001b[0m \u001b[1m0s\u001b[0m 487ms/step - accuracy: 0.1948 - loss: 2.4765 - val_accuracy: 0.1000 - val_loss: 2.6794\n",
            "Epoch 41/120\n",
            "\u001b[1m1/1\u001b[0m \u001b[32m━━━━━━━━━━━━━━━━━━━━\u001b[0m\u001b[37m\u001b[0m \u001b[1m0s\u001b[0m 481ms/step - accuracy: 0.2208 - loss: 2.5297 - val_accuracy: 0.2000 - val_loss: 2.6516\n",
            "Epoch 42/120\n",
            "\u001b[1m1/1\u001b[0m \u001b[32m━━━━━━━━━━━━━━━━━━━━\u001b[0m\u001b[37m\u001b[0m \u001b[1m1s\u001b[0m 641ms/step - accuracy: 0.2078 - loss: 2.4654 - val_accuracy: 0.1500 - val_loss: 2.6278\n",
            "Epoch 43/120\n",
            "\u001b[1m1/1\u001b[0m \u001b[32m━━━━━━━━━━━━━━━━━━━━\u001b[0m\u001b[37m\u001b[0m \u001b[1m1s\u001b[0m 583ms/step - accuracy: 0.1818 - loss: 2.4367 - val_accuracy: 0.1000 - val_loss: 2.5989\n",
            "Epoch 44/120\n",
            "\u001b[1m1/1\u001b[0m \u001b[32m━━━━━━━━━━━━━━━━━━━━\u001b[0m\u001b[37m\u001b[0m \u001b[1m0s\u001b[0m 320ms/step - accuracy: 0.2727 - loss: 2.4005 - val_accuracy: 0.2000 - val_loss: 2.5754\n",
            "Epoch 45/120\n",
            "\u001b[1m1/1\u001b[0m \u001b[32m━━━━━━━━━━━━━━━━━━━━\u001b[0m\u001b[37m\u001b[0m \u001b[1m0s\u001b[0m 305ms/step - accuracy: 0.2078 - loss: 2.4191 - val_accuracy: 0.1500 - val_loss: 2.5414\n",
            "Epoch 46/120\n",
            "\u001b[1m1/1\u001b[0m \u001b[32m━━━━━━━━━━━━━━━━━━━━\u001b[0m\u001b[37m\u001b[0m \u001b[1m0s\u001b[0m 315ms/step - accuracy: 0.2338 - loss: 2.3425 - val_accuracy: 0.1500 - val_loss: 2.5233\n",
            "Epoch 47/120\n",
            "\u001b[1m1/1\u001b[0m \u001b[32m━━━━━━━━━━━━━━━━━━━━\u001b[0m\u001b[37m\u001b[0m \u001b[1m0s\u001b[0m 313ms/step - accuracy: 0.2338 - loss: 2.3464 - val_accuracy: 0.1500 - val_loss: 2.4836\n",
            "Epoch 48/120\n",
            "\u001b[1m1/1\u001b[0m \u001b[32m━━━━━━━━━━━━━━━━━━━━\u001b[0m\u001b[37m\u001b[0m \u001b[1m1s\u001b[0m 636ms/step - accuracy: 0.2338 - loss: 2.3080 - val_accuracy: 0.2000 - val_loss: 2.4544\n",
            "Epoch 49/120\n",
            "\u001b[1m1/1\u001b[0m \u001b[32m━━━━━━━━━━━━━━━━━━━━\u001b[0m\u001b[37m\u001b[0m \u001b[1m0s\u001b[0m 306ms/step - accuracy: 0.2468 - loss: 2.3210 - val_accuracy: 0.2000 - val_loss: 2.4344\n",
            "Epoch 50/120\n",
            "\u001b[1m1/1\u001b[0m \u001b[32m━━━━━━━━━━━━━━━━━━━━\u001b[0m\u001b[37m\u001b[0m \u001b[1m1s\u001b[0m 717ms/step - accuracy: 0.1948 - loss: 2.2559 - val_accuracy: 0.1000 - val_loss: 2.4102\n",
            "Epoch 51/120\n",
            "\u001b[1m1/1\u001b[0m \u001b[32m━━━━━━━━━━━━━━━━━━━━\u001b[0m\u001b[37m\u001b[0m \u001b[1m0s\u001b[0m 304ms/step - accuracy: 0.3117 - loss: 2.2252 - val_accuracy: 0.1000 - val_loss: 2.3949\n",
            "Epoch 52/120\n",
            "\u001b[1m1/1\u001b[0m \u001b[32m━━━━━━━━━━━━━━━━━━━━\u001b[0m\u001b[37m\u001b[0m \u001b[1m0s\u001b[0m 316ms/step - accuracy: 0.2597 - loss: 2.2054 - val_accuracy: 0.2000 - val_loss: 2.3502\n",
            "Epoch 53/120\n",
            "\u001b[1m1/1\u001b[0m \u001b[32m━━━━━━━━━━━━━━━━━━━━\u001b[0m\u001b[37m\u001b[0m \u001b[1m0s\u001b[0m 305ms/step - accuracy: 0.2857 - loss: 2.1749 - val_accuracy: 0.2500 - val_loss: 2.3118\n",
            "Epoch 54/120\n",
            "\u001b[1m1/1\u001b[0m \u001b[32m━━━━━━━━━━━━━━━━━━━━\u001b[0m\u001b[37m\u001b[0m \u001b[1m0s\u001b[0m 305ms/step - accuracy: 0.2468 - loss: 2.1656 - val_accuracy: 0.2500 - val_loss: 2.2838\n",
            "Epoch 55/120\n",
            "\u001b[1m1/1\u001b[0m \u001b[32m━━━━━━━━━━━━━━━━━━━━\u001b[0m\u001b[37m\u001b[0m \u001b[1m0s\u001b[0m 329ms/step - accuracy: 0.2727 - loss: 2.1481 - val_accuracy: 0.2000 - val_loss: 2.2594\n",
            "Epoch 56/120\n",
            "\u001b[1m1/1\u001b[0m \u001b[32m━━━━━━━━━━━━━━━━━━━━\u001b[0m\u001b[37m\u001b[0m \u001b[1m1s\u001b[0m 613ms/step - accuracy: 0.3247 - loss: 2.0248 - val_accuracy: 0.2500 - val_loss: 2.2340\n",
            "Epoch 57/120\n",
            "\u001b[1m1/1\u001b[0m \u001b[32m━━━━━━━━━━━━━━━━━━━━\u001b[0m\u001b[37m\u001b[0m \u001b[1m0s\u001b[0m 306ms/step - accuracy: 0.2987 - loss: 2.0387 - val_accuracy: 0.3500 - val_loss: 2.1946\n",
            "Epoch 58/120\n",
            "\u001b[1m1/1\u001b[0m \u001b[32m━━━━━━━━━━━━━━━━━━━━\u001b[0m\u001b[37m\u001b[0m \u001b[1m0s\u001b[0m 309ms/step - accuracy: 0.2987 - loss: 2.0203 - val_accuracy: 0.3500 - val_loss: 2.1610\n",
            "Epoch 59/120\n",
            "\u001b[1m1/1\u001b[0m \u001b[32m━━━━━━━━━━━━━━━━━━━━\u001b[0m\u001b[37m\u001b[0m \u001b[1m0s\u001b[0m 304ms/step - accuracy: 0.3766 - loss: 1.9615 - val_accuracy: 0.3000 - val_loss: 2.1299\n",
            "Epoch 60/120\n",
            "\u001b[1m1/1\u001b[0m \u001b[32m━━━━━━━━━━━━━━━━━━━━\u001b[0m\u001b[37m\u001b[0m \u001b[1m0s\u001b[0m 319ms/step - accuracy: 0.2857 - loss: 1.9209 - val_accuracy: 0.3000 - val_loss: 2.1019\n",
            "Epoch 61/120\n",
            "\u001b[1m1/1\u001b[0m \u001b[32m━━━━━━━━━━━━━━━━━━━━\u001b[0m\u001b[37m\u001b[0m \u001b[1m0s\u001b[0m 300ms/step - accuracy: 0.3117 - loss: 1.9087 - val_accuracy: 0.3500 - val_loss: 2.0742\n",
            "Epoch 62/120\n",
            "\u001b[1m1/1\u001b[0m \u001b[32m━━━━━━━━━━━━━━━━━━━━\u001b[0m\u001b[37m\u001b[0m \u001b[1m0s\u001b[0m 312ms/step - accuracy: 0.3506 - loss: 1.8942 - val_accuracy: 0.3500 - val_loss: 2.0355\n",
            "Epoch 63/120\n",
            "\u001b[1m1/1\u001b[0m \u001b[32m━━━━━━━━━━━━━━━━━━━━\u001b[0m\u001b[37m\u001b[0m \u001b[1m0s\u001b[0m 290ms/step - accuracy: 0.3377 - loss: 1.8943 - val_accuracy: 0.3500 - val_loss: 2.0000\n",
            "Epoch 64/120\n",
            "\u001b[1m1/1\u001b[0m \u001b[32m━━━━━━━━━━━━━━━━━━━━\u001b[0m\u001b[37m\u001b[0m \u001b[1m0s\u001b[0m 307ms/step - accuracy: 0.3377 - loss: 1.8466 - val_accuracy: 0.3500 - val_loss: 1.9861\n",
            "Epoch 65/120\n",
            "\u001b[1m1/1\u001b[0m \u001b[32m━━━━━━━━━━━━━━━━━━━━\u001b[0m\u001b[37m\u001b[0m \u001b[1m0s\u001b[0m 305ms/step - accuracy: 0.3377 - loss: 1.8338 - val_accuracy: 0.2000 - val_loss: 1.9820\n",
            "Epoch 66/120\n",
            "\u001b[1m1/1\u001b[0m \u001b[32m━━━━━━━━━━━━━━━━━━━━\u001b[0m\u001b[37m\u001b[0m \u001b[1m0s\u001b[0m 446ms/step - accuracy: 0.3247 - loss: 1.8450 - val_accuracy: 0.3000 - val_loss: 1.9002\n",
            "Epoch 67/120\n",
            "\u001b[1m1/1\u001b[0m \u001b[32m━━━━━━━━━━━━━━━━━━━━\u001b[0m\u001b[37m\u001b[0m \u001b[1m1s\u001b[0m 727ms/step - accuracy: 0.4026 - loss: 1.7089 - val_accuracy: 0.3500 - val_loss: 1.8775\n",
            "Epoch 68/120\n",
            "\u001b[1m1/1\u001b[0m \u001b[32m━━━━━━━━━━━━━━━━━━━━\u001b[0m\u001b[37m\u001b[0m \u001b[1m1s\u001b[0m 559ms/step - accuracy: 0.4026 - loss: 1.7163 - val_accuracy: 0.2500 - val_loss: 1.8405\n",
            "Epoch 69/120\n",
            "\u001b[1m1/1\u001b[0m \u001b[32m━━━━━━━━━━━━━━━━━━━━\u001b[0m\u001b[37m\u001b[0m \u001b[1m1s\u001b[0m 636ms/step - accuracy: 0.3766 - loss: 1.7398 - val_accuracy: 0.2500 - val_loss: 1.8437\n",
            "Epoch 70/120\n",
            "\u001b[1m1/1\u001b[0m \u001b[32m━━━━━━━━━━━━━━━━━━━━\u001b[0m\u001b[37m\u001b[0m \u001b[1m1s\u001b[0m 576ms/step - accuracy: 0.3766 - loss: 1.6999 - val_accuracy: 0.3000 - val_loss: 1.7892\n",
            "Epoch 71/120\n",
            "\u001b[1m1/1\u001b[0m \u001b[32m━━━━━━━━━━━━━━━━━━━━\u001b[0m\u001b[37m\u001b[0m \u001b[1m1s\u001b[0m 576ms/step - accuracy: 0.3896 - loss: 1.6666 - val_accuracy: 0.3000 - val_loss: 1.7530\n",
            "Epoch 72/120\n",
            "\u001b[1m1/1\u001b[0m \u001b[32m━━━━━━━━━━━━━━━━━━━━\u001b[0m\u001b[37m\u001b[0m \u001b[1m0s\u001b[0m 454ms/step - accuracy: 0.3896 - loss: 1.6686 - val_accuracy: 0.3000 - val_loss: 1.7253\n",
            "Epoch 73/120\n",
            "\u001b[1m1/1\u001b[0m \u001b[32m━━━━━━━━━━━━━━━━━━━━\u001b[0m\u001b[37m\u001b[0m \u001b[1m0s\u001b[0m 304ms/step - accuracy: 0.4416 - loss: 1.6245 - val_accuracy: 0.3000 - val_loss: 1.7107\n",
            "Epoch 74/120\n",
            "\u001b[1m1/1\u001b[0m \u001b[32m━━━━━━━━━━━━━━━━━━━━\u001b[0m\u001b[37m\u001b[0m \u001b[1m0s\u001b[0m 336ms/step - accuracy: 0.4545 - loss: 1.5690 - val_accuracy: 0.3000 - val_loss: 1.7185\n",
            "Epoch 75/120\n",
            "\u001b[1m1/1\u001b[0m \u001b[32m━━━━━━━━━━━━━━━━━━━━\u001b[0m\u001b[37m\u001b[0m \u001b[1m1s\u001b[0m 588ms/step - accuracy: 0.4286 - loss: 1.5666 - val_accuracy: 0.3000 - val_loss: 1.6736\n",
            "Epoch 76/120\n",
            "\u001b[1m1/1\u001b[0m \u001b[32m━━━━━━━━━━━━━━━━━━━━\u001b[0m\u001b[37m\u001b[0m \u001b[1m0s\u001b[0m 321ms/step - accuracy: 0.5455 - loss: 1.5102 - val_accuracy: 0.2500 - val_loss: 1.6565\n",
            "Epoch 77/120\n",
            "\u001b[1m1/1\u001b[0m \u001b[32m━━━━━━━━━━━━━━━━━━━━\u001b[0m\u001b[37m\u001b[0m \u001b[1m0s\u001b[0m 310ms/step - accuracy: 0.4286 - loss: 1.5817 - val_accuracy: 0.3000 - val_loss: 1.6311\n",
            "Epoch 78/120\n",
            "\u001b[1m1/1\u001b[0m \u001b[32m━━━━━━━━━━━━━━━━━━━━\u001b[0m\u001b[37m\u001b[0m \u001b[1m0s\u001b[0m 284ms/step - accuracy: 0.4416 - loss: 1.4894 - val_accuracy: 0.3500 - val_loss: 1.6322\n",
            "Epoch 79/120\n",
            "\u001b[1m1/1\u001b[0m \u001b[32m━━━━━━━━━━━━━━━━━━━━\u001b[0m\u001b[37m\u001b[0m \u001b[1m0s\u001b[0m 328ms/step - accuracy: 0.5325 - loss: 1.4646 - val_accuracy: 0.3500 - val_loss: 1.6267\n",
            "Epoch 80/120\n",
            "\u001b[1m1/1\u001b[0m \u001b[32m━━━━━━━━━━━━━━━━━━━━\u001b[0m\u001b[37m\u001b[0m \u001b[1m1s\u001b[0m 600ms/step - accuracy: 0.4286 - loss: 1.5205 - val_accuracy: 0.3500 - val_loss: 1.5707\n",
            "Epoch 81/120\n",
            "\u001b[1m1/1\u001b[0m \u001b[32m━━━━━━━━━━━━━━━━━━━━\u001b[0m\u001b[37m\u001b[0m \u001b[1m1s\u001b[0m 616ms/step - accuracy: 0.4935 - loss: 1.4519 - val_accuracy: 0.3000 - val_loss: 1.5532\n",
            "Epoch 82/120\n",
            "\u001b[1m1/1\u001b[0m \u001b[32m━━━━━━━━━━━━━━━━━━━━\u001b[0m\u001b[37m\u001b[0m \u001b[1m0s\u001b[0m 295ms/step - accuracy: 0.4416 - loss: 1.4618 - val_accuracy: 0.3000 - val_loss: 1.5258\n",
            "Epoch 83/120\n",
            "\u001b[1m1/1\u001b[0m \u001b[32m━━━━━━━━━━━━━━━━━━━━\u001b[0m\u001b[37m\u001b[0m \u001b[1m0s\u001b[0m 320ms/step - accuracy: 0.4026 - loss: 1.4438 - val_accuracy: 0.2500 - val_loss: 1.5313\n",
            "Epoch 84/120\n",
            "\u001b[1m1/1\u001b[0m \u001b[32m━━━━━━━━━━━━━━━━━━━━\u001b[0m\u001b[37m\u001b[0m \u001b[1m0s\u001b[0m 327ms/step - accuracy: 0.4935 - loss: 1.4116 - val_accuracy: 0.3000 - val_loss: 1.5214\n",
            "Epoch 85/120\n",
            "\u001b[1m1/1\u001b[0m \u001b[32m━━━━━━━━━━━━━━━━━━━━\u001b[0m\u001b[37m\u001b[0m \u001b[1m1s\u001b[0m 600ms/step - accuracy: 0.4416 - loss: 1.4296 - val_accuracy: 0.3000 - val_loss: 1.4818\n",
            "Epoch 86/120\n",
            "\u001b[1m1/1\u001b[0m \u001b[32m━━━━━━━━━━━━━━━━━━━━\u001b[0m\u001b[37m\u001b[0m \u001b[1m0s\u001b[0m 314ms/step - accuracy: 0.5065 - loss: 1.4091 - val_accuracy: 0.3000 - val_loss: 1.4826\n",
            "Epoch 87/120\n",
            "\u001b[1m1/1\u001b[0m \u001b[32m━━━━━━━━━━━━━━━━━━━━\u001b[0m\u001b[37m\u001b[0m \u001b[1m1s\u001b[0m 608ms/step - accuracy: 0.4935 - loss: 1.3692 - val_accuracy: 0.3500 - val_loss: 1.4695\n",
            "Epoch 88/120\n",
            "\u001b[1m1/1\u001b[0m \u001b[32m━━━━━━━━━━━━━━━━━━━━\u001b[0m\u001b[37m\u001b[0m \u001b[1m0s\u001b[0m 332ms/step - accuracy: 0.4416 - loss: 1.3884 - val_accuracy: 0.4000 - val_loss: 1.4657\n",
            "Epoch 89/120\n",
            "\u001b[1m1/1\u001b[0m \u001b[32m━━━━━━━━━━━━━━━━━━━━\u001b[0m\u001b[37m\u001b[0m \u001b[1m0s\u001b[0m 321ms/step - accuracy: 0.4935 - loss: 1.3714 - val_accuracy: 0.3500 - val_loss: 1.4985\n",
            "Epoch 90/120\n",
            "\u001b[1m1/1\u001b[0m \u001b[32m━━━━━━━━━━━━━━━━━━━━\u001b[0m\u001b[37m\u001b[0m \u001b[1m0s\u001b[0m 304ms/step - accuracy: 0.5195 - loss: 1.3609 - val_accuracy: 0.3500 - val_loss: 1.4395\n",
            "Epoch 91/120\n",
            "\u001b[1m1/1\u001b[0m \u001b[32m━━━━━━━━━━━━━━━━━━━━\u001b[0m\u001b[37m\u001b[0m \u001b[1m0s\u001b[0m 324ms/step - accuracy: 0.5584 - loss: 1.3200 - val_accuracy: 0.4000 - val_loss: 1.3958\n",
            "Epoch 92/120\n",
            "\u001b[1m1/1\u001b[0m \u001b[32m━━━━━━━━━━━━━━━━━━━━\u001b[0m\u001b[37m\u001b[0m \u001b[1m1s\u001b[0m 605ms/step - accuracy: 0.5714 - loss: 1.2337 - val_accuracy: 0.4000 - val_loss: 1.3926\n",
            "Epoch 93/120\n",
            "\u001b[1m1/1\u001b[0m \u001b[32m━━━━━━━━━━━━━━━━━━━━\u001b[0m\u001b[37m\u001b[0m \u001b[1m0s\u001b[0m 320ms/step - accuracy: 0.4545 - loss: 1.2874 - val_accuracy: 0.4000 - val_loss: 1.3788\n",
            "Epoch 94/120\n",
            "\u001b[1m1/1\u001b[0m \u001b[32m━━━━━━━━━━━━━━━━━━━━\u001b[0m\u001b[37m\u001b[0m \u001b[1m1s\u001b[0m 604ms/step - accuracy: 0.5195 - loss: 1.3251 - val_accuracy: 0.4000 - val_loss: 1.3453\n",
            "Epoch 95/120\n",
            "\u001b[1m1/1\u001b[0m \u001b[32m━━━━━━━━━━━━━━━━━━━━\u001b[0m\u001b[37m\u001b[0m \u001b[1m1s\u001b[0m 650ms/step - accuracy: 0.5974 - loss: 1.2513 - val_accuracy: 0.4500 - val_loss: 1.3466\n",
            "Epoch 96/120\n",
            "\u001b[1m1/1\u001b[0m \u001b[32m━━━━━━━━━━━━━━━━━━━━\u001b[0m\u001b[37m\u001b[0m \u001b[1m1s\u001b[0m 828ms/step - accuracy: 0.5584 - loss: 1.2478 - val_accuracy: 0.5000 - val_loss: 1.3265\n",
            "Epoch 97/120\n",
            "\u001b[1m1/1\u001b[0m \u001b[32m━━━━━━━━━━━━━━━━━━━━\u001b[0m\u001b[37m\u001b[0m \u001b[1m1s\u001b[0m 586ms/step - accuracy: 0.5065 - loss: 1.2396 - val_accuracy: 0.4500 - val_loss: 1.3171\n",
            "Epoch 98/120\n",
            "\u001b[1m1/1\u001b[0m \u001b[32m━━━━━━━━━━━━━━━━━━━━\u001b[0m\u001b[37m\u001b[0m \u001b[1m1s\u001b[0m 572ms/step - accuracy: 0.5714 - loss: 1.2654 - val_accuracy: 0.5000 - val_loss: 1.2969\n",
            "Epoch 99/120\n",
            "\u001b[1m1/1\u001b[0m \u001b[32m━━━━━━━━━━━━━━━━━━━━\u001b[0m\u001b[37m\u001b[0m \u001b[1m1s\u001b[0m 616ms/step - accuracy: 0.5455 - loss: 1.2467 - val_accuracy: 0.5000 - val_loss: 1.2763\n",
            "Epoch 100/120\n",
            "\u001b[1m1/1\u001b[0m \u001b[32m━━━━━━━━━━━━━━━━━━━━\u001b[0m\u001b[37m\u001b[0m \u001b[1m1s\u001b[0m 543ms/step - accuracy: 0.5325 - loss: 1.1873 - val_accuracy: 0.5000 - val_loss: 1.2657\n",
            "Epoch 101/120\n",
            "\u001b[1m1/1\u001b[0m \u001b[32m━━━━━━━━━━━━━━━━━━━━\u001b[0m\u001b[37m\u001b[0m \u001b[1m1s\u001b[0m 586ms/step - accuracy: 0.5974 - loss: 1.2174 - val_accuracy: 0.5500 - val_loss: 1.2496\n",
            "Epoch 102/120\n",
            "\u001b[1m1/1\u001b[0m \u001b[32m━━━━━━━━━━━━━━━━━━━━\u001b[0m\u001b[37m\u001b[0m \u001b[1m0s\u001b[0m 309ms/step - accuracy: 0.6234 - loss: 1.1624 - val_accuracy: 0.4500 - val_loss: 1.2270\n",
            "Epoch 103/120\n",
            "\u001b[1m1/1\u001b[0m \u001b[32m━━━━━━━━━━━━━━━━━━━━\u001b[0m\u001b[37m\u001b[0m \u001b[1m0s\u001b[0m 315ms/step - accuracy: 0.6364 - loss: 1.1470 - val_accuracy: 0.5000 - val_loss: 1.2114\n",
            "Epoch 104/120\n",
            "\u001b[1m1/1\u001b[0m \u001b[32m━━━━━━━━━━━━━━━━━━━━\u001b[0m\u001b[37m\u001b[0m \u001b[1m1s\u001b[0m 614ms/step - accuracy: 0.6623 - loss: 1.1407 - val_accuracy: 0.6000 - val_loss: 1.2035\n",
            "Epoch 105/120\n",
            "\u001b[1m1/1\u001b[0m \u001b[32m━━━━━━━━━━━━━━━━━━━━\u001b[0m\u001b[37m\u001b[0m \u001b[1m0s\u001b[0m 334ms/step - accuracy: 0.5455 - loss: 1.1743 - val_accuracy: 0.5500 - val_loss: 1.1929\n",
            "Epoch 106/120\n",
            "\u001b[1m1/1\u001b[0m \u001b[32m━━━━━━━━━━━━━━━━━━━━\u001b[0m\u001b[37m\u001b[0m \u001b[1m1s\u001b[0m 595ms/step - accuracy: 0.6364 - loss: 1.0981 - val_accuracy: 0.5500 - val_loss: 1.1880\n",
            "Epoch 107/120\n",
            "\u001b[1m1/1\u001b[0m \u001b[32m━━━━━━━━━━━━━━━━━━━━\u001b[0m\u001b[37m\u001b[0m \u001b[1m0s\u001b[0m 321ms/step - accuracy: 0.6104 - loss: 1.0822 - val_accuracy: 0.5000 - val_loss: 1.1739\n",
            "Epoch 108/120\n",
            "\u001b[1m1/1\u001b[0m \u001b[32m━━━━━━━━━━━━━━━━━━━━\u001b[0m\u001b[37m\u001b[0m \u001b[1m0s\u001b[0m 295ms/step - accuracy: 0.6234 - loss: 1.0388 - val_accuracy: 0.6000 - val_loss: 1.1637\n",
            "Epoch 109/120\n",
            "\u001b[1m1/1\u001b[0m \u001b[32m━━━━━━━━━━━━━━━━━━━━\u001b[0m\u001b[37m\u001b[0m \u001b[1m0s\u001b[0m 310ms/step - accuracy: 0.6494 - loss: 1.0555 - val_accuracy: 0.6000 - val_loss: 1.1400\n",
            "Epoch 110/120\n",
            "\u001b[1m1/1\u001b[0m \u001b[32m━━━━━━━━━━━━━━━━━━━━\u001b[0m\u001b[37m\u001b[0m \u001b[1m0s\u001b[0m 297ms/step - accuracy: 0.6494 - loss: 1.0437 - val_accuracy: 0.6000 - val_loss: 1.1243\n",
            "Epoch 111/120\n",
            "\u001b[1m1/1\u001b[0m \u001b[32m━━━━━━━━━━━━━━━━━━━━\u001b[0m\u001b[37m\u001b[0m \u001b[1m0s\u001b[0m 327ms/step - accuracy: 0.7922 - loss: 0.9823 - val_accuracy: 0.6500 - val_loss: 1.0969\n",
            "Epoch 112/120\n",
            "\u001b[1m1/1\u001b[0m \u001b[32m━━━━━━━━━━━━━━━━━━━━\u001b[0m\u001b[37m\u001b[0m \u001b[1m0s\u001b[0m 320ms/step - accuracy: 0.6753 - loss: 1.0589 - val_accuracy: 0.6000 - val_loss: 1.1054\n",
            "Epoch 113/120\n",
            "\u001b[1m1/1\u001b[0m \u001b[32m━━━━━━━━━━━━━━━━━━━━\u001b[0m\u001b[37m\u001b[0m \u001b[1m0s\u001b[0m 309ms/step - accuracy: 0.5974 - loss: 1.0910 - val_accuracy: 0.6000 - val_loss: 1.0806\n",
            "Epoch 114/120\n",
            "\u001b[1m1/1\u001b[0m \u001b[32m━━━━━━━━━━━━━━━━━━━━\u001b[0m\u001b[37m\u001b[0m \u001b[1m0s\u001b[0m 323ms/step - accuracy: 0.6494 - loss: 1.0355 - val_accuracy: 0.6000 - val_loss: 1.0681\n",
            "Epoch 115/120\n",
            "\u001b[1m1/1\u001b[0m \u001b[32m━━━━━━━━━━━━━━━━━━━━\u001b[0m\u001b[37m\u001b[0m \u001b[1m1s\u001b[0m 649ms/step - accuracy: 0.6753 - loss: 1.0290 - val_accuracy: 0.7000 - val_loss: 1.0517\n",
            "Epoch 116/120\n",
            "\u001b[1m1/1\u001b[0m \u001b[32m━━━━━━━━━━━━━━━━━━━━\u001b[0m\u001b[37m\u001b[0m \u001b[1m1s\u001b[0m 636ms/step - accuracy: 0.6753 - loss: 1.0112 - val_accuracy: 0.8500 - val_loss: 1.0317\n",
            "Epoch 117/120\n",
            "\u001b[1m1/1\u001b[0m \u001b[32m━━━━━━━━━━━━━━━━━━━━\u001b[0m\u001b[37m\u001b[0m \u001b[1m0s\u001b[0m 344ms/step - accuracy: 0.5974 - loss: 0.9830 - val_accuracy: 0.8500 - val_loss: 1.0339\n",
            "Epoch 118/120\n",
            "\u001b[1m1/1\u001b[0m \u001b[32m━━━━━━━━━━━━━━━━━━━━\u001b[0m\u001b[37m\u001b[0m \u001b[1m0s\u001b[0m 347ms/step - accuracy: 0.6623 - loss: 0.9854 - val_accuracy: 0.6000 - val_loss: 1.0460\n",
            "Epoch 119/120\n",
            "\u001b[1m1/1\u001b[0m \u001b[32m━━━━━━━━━━━━━━━━━━━━\u001b[0m\u001b[37m\u001b[0m \u001b[1m0s\u001b[0m 335ms/step - accuracy: 0.6494 - loss: 0.9671 - val_accuracy: 0.6500 - val_loss: 1.0280\n",
            "Epoch 120/120\n",
            "\u001b[1m1/1\u001b[0m \u001b[32m━━━━━━━━━━━━━━━━━━━━\u001b[0m\u001b[37m\u001b[0m \u001b[1m1s\u001b[0m 697ms/step - accuracy: 0.6494 - loss: 0.9536 - val_accuracy: 0.6500 - val_loss: 1.0350\n"
          ]
        },
        {
          "output_type": "execute_result",
          "data": {
            "text/plain": [
              "<keras.src.callbacks.history.History at 0x7ec37d0692d0>"
            ]
          },
          "metadata": {},
          "execution_count": 11
        }
      ],
      "source": [
        "model.compile(loss='sparse_categorical_crossentropy', optimizer='adam',metrics=['accuracy'])\n",
        "\n",
        "model.fit(\n",
        " x_train,y_train,\n",
        " batch_size=128,epochs=120,\n",
        " validation_data=(x_test,y_test))"
      ]
    },
    {
      "cell_type": "markdown",
      "metadata": {
        "id": "pZ3bGfSrBp05"
      },
      "source": [
        "# Save the data"
      ]
    },
    {
      "cell_type": "code",
      "execution_count": 12,
      "metadata": {
        "id": "_PHIovFGBq57"
      },
      "outputs": [],
      "source": [
        "model.save(\"model.keras\")"
      ]
    },
    {
      "cell_type": "markdown",
      "metadata": {
        "id": "LkvlYAAODFP5"
      },
      "source": [
        "# Composition"
      ]
    },
    {
      "cell_type": "code",
      "execution_count": 13,
      "metadata": {
        "colab": {
          "base_uri": "https://localhost:8080/"
        },
        "id": "g6-DH0eUB23S",
        "outputId": "22295838-bfa3-4ca2-b9fe-741e62a5f6f6"
      },
      "outputs": [
        {
          "output_type": "stream",
          "name": "stdout",
          "text": [
            "\u001b[1m1/1\u001b[0m \u001b[32m━━━━━━━━━━━━━━━━━━━━\u001b[0m\u001b[37m\u001b[0m \u001b[1m0s\u001b[0m 430ms/step\n",
            "\u001b[1m1/1\u001b[0m \u001b[32m━━━━━━━━━━━━━━━━━━━━\u001b[0m\u001b[37m\u001b[0m \u001b[1m0s\u001b[0m 51ms/step\n",
            "\u001b[1m1/1\u001b[0m \u001b[32m━━━━━━━━━━━━━━━━━━━━\u001b[0m\u001b[37m\u001b[0m \u001b[1m0s\u001b[0m 60ms/step\n",
            "\u001b[1m1/1\u001b[0m \u001b[32m━━━━━━━━━━━━━━━━━━━━\u001b[0m\u001b[37m\u001b[0m \u001b[1m0s\u001b[0m 53ms/step\n",
            "\u001b[1m1/1\u001b[0m \u001b[32m━━━━━━━━━━━━━━━━━━━━\u001b[0m\u001b[37m\u001b[0m \u001b[1m0s\u001b[0m 62ms/step\n",
            "\u001b[1m1/1\u001b[0m \u001b[32m━━━━━━━━━━━━━━━━━━━━\u001b[0m\u001b[37m\u001b[0m \u001b[1m0s\u001b[0m 56ms/step\n",
            "\u001b[1m1/1\u001b[0m \u001b[32m━━━━━━━━━━━━━━━━━━━━\u001b[0m\u001b[37m\u001b[0m \u001b[1m0s\u001b[0m 74ms/step\n",
            "\u001b[1m1/1\u001b[0m \u001b[32m━━━━━━━━━━━━━━━━━━━━\u001b[0m\u001b[37m\u001b[0m \u001b[1m0s\u001b[0m 51ms/step\n",
            "\u001b[1m1/1\u001b[0m \u001b[32m━━━━━━━━━━━━━━━━━━━━\u001b[0m\u001b[37m\u001b[0m \u001b[1m0s\u001b[0m 68ms/step\n",
            "\u001b[1m1/1\u001b[0m \u001b[32m━━━━━━━━━━━━━━━━━━━━\u001b[0m\u001b[37m\u001b[0m \u001b[1m0s\u001b[0m 85ms/step\n",
            "\u001b[1m1/1\u001b[0m \u001b[32m━━━━━━━━━━━━━━━━━━━━\u001b[0m\u001b[37m\u001b[0m \u001b[1m0s\u001b[0m 84ms/step\n",
            "\u001b[1m1/1\u001b[0m \u001b[32m━━━━━━━━━━━━━━━━━━━━\u001b[0m\u001b[37m\u001b[0m \u001b[1m0s\u001b[0m 80ms/step\n",
            "\u001b[1m1/1\u001b[0m \u001b[32m━━━━━━━━━━━━━━━━━━━━\u001b[0m\u001b[37m\u001b[0m \u001b[1m0s\u001b[0m 79ms/step\n",
            "\u001b[1m1/1\u001b[0m \u001b[32m━━━━━━━━━━━━━━━━━━━━\u001b[0m\u001b[37m\u001b[0m \u001b[1m0s\u001b[0m 90ms/step\n",
            "\u001b[1m1/1\u001b[0m \u001b[32m━━━━━━━━━━━━━━━━━━━━\u001b[0m\u001b[37m\u001b[0m \u001b[1m0s\u001b[0m 112ms/step\n",
            "\u001b[1m1/1\u001b[0m \u001b[32m━━━━━━━━━━━━━━━━━━━━\u001b[0m\u001b[37m\u001b[0m \u001b[1m0s\u001b[0m 78ms/step\n",
            "\u001b[1m1/1\u001b[0m \u001b[32m━━━━━━━━━━━━━━━━━━━━\u001b[0m\u001b[37m\u001b[0m \u001b[1m0s\u001b[0m 79ms/step\n",
            "\u001b[1m1/1\u001b[0m \u001b[32m━━━━━━━━━━━━━━━━━━━━\u001b[0m\u001b[37m\u001b[0m \u001b[1m0s\u001b[0m 79ms/step\n",
            "\u001b[1m1/1\u001b[0m \u001b[32m━━━━━━━━━━━━━━━━━━━━\u001b[0m\u001b[37m\u001b[0m \u001b[1m0s\u001b[0m 80ms/step\n",
            "\u001b[1m1/1\u001b[0m \u001b[32m━━━━━━━━━━━━━━━━━━━━\u001b[0m\u001b[37m\u001b[0m \u001b[1m0s\u001b[0m 77ms/step\n",
            "\u001b[1m1/1\u001b[0m \u001b[32m━━━━━━━━━━━━━━━━━━━━\u001b[0m\u001b[37m\u001b[0m \u001b[1m0s\u001b[0m 110ms/step\n",
            "\u001b[1m1/1\u001b[0m \u001b[32m━━━━━━━━━━━━━━━━━━━━\u001b[0m\u001b[37m\u001b[0m \u001b[1m0s\u001b[0m 82ms/step\n",
            "\u001b[1m1/1\u001b[0m \u001b[32m━━━━━━━━━━━━━━━━━━━━\u001b[0m\u001b[37m\u001b[0m \u001b[1m0s\u001b[0m 78ms/step\n",
            "\u001b[1m1/1\u001b[0m \u001b[32m━━━━━━━━━━━━━━━━━━━━\u001b[0m\u001b[37m\u001b[0m \u001b[1m0s\u001b[0m 78ms/step\n",
            "\u001b[1m1/1\u001b[0m \u001b[32m━━━━━━━━━━━━━━━━━━━━\u001b[0m\u001b[37m\u001b[0m \u001b[1m0s\u001b[0m 90ms/step\n",
            "\u001b[1m1/1\u001b[0m \u001b[32m━━━━━━━━━━━━━━━━━━━━\u001b[0m\u001b[37m\u001b[0m \u001b[1m0s\u001b[0m 95ms/step\n",
            "\u001b[1m1/1\u001b[0m \u001b[32m━━━━━━━━━━━━━━━━━━━━\u001b[0m\u001b[37m\u001b[0m \u001b[1m0s\u001b[0m 81ms/step\n",
            "\u001b[1m1/1\u001b[0m \u001b[32m━━━━━━━━━━━━━━━━━━━━\u001b[0m\u001b[37m\u001b[0m \u001b[1m0s\u001b[0m 95ms/step\n",
            "\u001b[1m1/1\u001b[0m \u001b[32m━━━━━━━━━━━━━━━━━━━━\u001b[0m\u001b[37m\u001b[0m \u001b[1m0s\u001b[0m 88ms/step\n",
            "\u001b[1m1/1\u001b[0m \u001b[32m━━━━━━━━━━━━━━━━━━━━\u001b[0m\u001b[37m\u001b[0m \u001b[1m0s\u001b[0m 85ms/step\n",
            "\u001b[1m1/1\u001b[0m \u001b[32m━━━━━━━━━━━━━━━━━━━━\u001b[0m\u001b[37m\u001b[0m \u001b[1m0s\u001b[0m 52ms/step\n",
            "\u001b[1m1/1\u001b[0m \u001b[32m━━━━━━━━━━━━━━━━━━━━\u001b[0m\u001b[37m\u001b[0m \u001b[1m0s\u001b[0m 51ms/step\n",
            "\u001b[1m1/1\u001b[0m \u001b[32m━━━━━━━━━━━━━━━━━━━━\u001b[0m\u001b[37m\u001b[0m \u001b[1m0s\u001b[0m 51ms/step\n",
            "\u001b[1m1/1\u001b[0m \u001b[32m━━━━━━━━━━━━━━━━━━━━\u001b[0m\u001b[37m\u001b[0m \u001b[1m0s\u001b[0m 48ms/step\n",
            "\u001b[1m1/1\u001b[0m \u001b[32m━━━━━━━━━━━━━━━━━━━━\u001b[0m\u001b[37m\u001b[0m \u001b[1m0s\u001b[0m 50ms/step\n",
            "\u001b[1m1/1\u001b[0m \u001b[32m━━━━━━━━━━━━━━━━━━━━\u001b[0m\u001b[37m\u001b[0m \u001b[1m0s\u001b[0m 54ms/step\n",
            "\u001b[1m1/1\u001b[0m \u001b[32m━━━━━━━━━━━━━━━━━━━━\u001b[0m\u001b[37m\u001b[0m \u001b[1m0s\u001b[0m 46ms/step\n",
            "\u001b[1m1/1\u001b[0m \u001b[32m━━━━━━━━━━━━━━━━━━━━\u001b[0m\u001b[37m\u001b[0m \u001b[1m0s\u001b[0m 49ms/step\n",
            "\u001b[1m1/1\u001b[0m \u001b[32m━━━━━━━━━━━━━━━━━━━━\u001b[0m\u001b[37m\u001b[0m \u001b[1m0s\u001b[0m 52ms/step\n",
            "\u001b[1m1/1\u001b[0m \u001b[32m━━━━━━━━━━━━━━━━━━━━\u001b[0m\u001b[37m\u001b[0m \u001b[1m0s\u001b[0m 55ms/step\n",
            "\u001b[1m1/1\u001b[0m \u001b[32m━━━━━━━━━━━━━━━━━━━━\u001b[0m\u001b[37m\u001b[0m \u001b[1m0s\u001b[0m 54ms/step\n",
            "\u001b[1m1/1\u001b[0m \u001b[32m━━━━━━━━━━━━━━━━━━━━\u001b[0m\u001b[37m\u001b[0m \u001b[1m0s\u001b[0m 48ms/step\n",
            "\u001b[1m1/1\u001b[0m \u001b[32m━━━━━━━━━━━━━━━━━━━━\u001b[0m\u001b[37m\u001b[0m \u001b[1m0s\u001b[0m 49ms/step\n",
            "\u001b[1m1/1\u001b[0m \u001b[32m━━━━━━━━━━━━━━━━━━━━\u001b[0m\u001b[37m\u001b[0m \u001b[1m0s\u001b[0m 47ms/step\n",
            "\u001b[1m1/1\u001b[0m \u001b[32m━━━━━━━━━━━━━━━━━━━━\u001b[0m\u001b[37m\u001b[0m \u001b[1m0s\u001b[0m 53ms/step\n",
            "\u001b[1m1/1\u001b[0m \u001b[32m━━━━━━━━━━━━━━━━━━━━\u001b[0m\u001b[37m\u001b[0m \u001b[1m0s\u001b[0m 51ms/step\n",
            "\u001b[1m1/1\u001b[0m \u001b[32m━━━━━━━━━━━━━━━━━━━━\u001b[0m\u001b[37m\u001b[0m \u001b[1m0s\u001b[0m 49ms/step\n",
            "\u001b[1m1/1\u001b[0m \u001b[32m━━━━━━━━━━━━━━━━━━━━\u001b[0m\u001b[37m\u001b[0m \u001b[1m0s\u001b[0m 53ms/step\n",
            "\u001b[1m1/1\u001b[0m \u001b[32m━━━━━━━━━━━━━━━━━━━━\u001b[0m\u001b[37m\u001b[0m \u001b[1m0s\u001b[0m 53ms/step\n",
            "\u001b[1m1/1\u001b[0m \u001b[32m━━━━━━━━━━━━━━━━━━━━\u001b[0m\u001b[37m\u001b[0m \u001b[1m0s\u001b[0m 46ms/step\n"
          ]
        }
      ],
      "source": [
        "model = load_model(\"model.keras\")\n",
        "index = np.random.randint(0,len(x_test)-1)\n",
        "music_pattern = x_test[index]\n",
        "out_pred=[]\n",
        "\n",
        "for i in range(50):\n",
        "\n",
        "\n",
        " music_pattern = music_pattern.reshape(1,len(music_pattern),1)\n",
        "\n",
        " pred_index = np.argmax(model.predict(music_pattern))\n",
        "\n",
        " out_pred.append(ind2note[pred_index])\n",
        " music_pattern = np.append(music_pattern,pred_index)\n",
        "\n",
        "\n",
        " music_pattern = music_pattern[1:]"
      ]
    },
    {
      "cell_type": "markdown",
      "metadata": {
        "id": "8sDLz004D0VR"
      },
      "source": [
        "# Saving the midi file"
      ]
    },
    {
      "cell_type": "code",
      "execution_count": 14,
      "metadata": {
        "id": "rzHBtSeyDIJ5",
        "colab": {
          "base_uri": "https://localhost:8080/",
          "height": 73
        },
        "outputId": "b9a9987d-5053-4d4b-faf9-4fa77fce3f49"
      },
      "outputs": [
        {
          "output_type": "stream",
          "name": "stdout",
          "text": [
            "Predicted Notes (out_pred): ['F5.B-2', 'C#5', 'E-5', 'E-5', 'F5', 'G#5', 'G#5', 'G#5', 'F5', 'E-5.F5', 'E-5.F5', 'E-5', 'C#5', 'E-3', 'C5', 'C5', 'G#3', 'G#4', 'B-4', 'C5', 'C#5.G#3', 'E-5', 'F5.B-2', 'F5.B-2', 'C#5', 'E-5', 'E-5', 'F5', 'G#5', 'G#5', 'G#5', 'G#5', 'F5', 'E-5.F5', 'C#5', 'E-3', 'E-3', 'C5', 'C5', 'G#3', 'G#4', 'B-4', 'C5', 'C#5.G#3', 'E-5', 'F5.B-2', 'F5.B-2', 'C#5', 'E-5', 'E-5']\n",
            "Generated Notes (output_notes): [<music21.note.Note B->, <music21.chord.Chord F5>, <music21.note.Note C#>, <music21.note.Note E->, <music21.note.Note E->, <music21.note.Note F>, <music21.note.Note G#>, <music21.note.Note G#>, <music21.note.Note G#>, <music21.note.Note F>, <music21.note.Note E->, <music21.chord.Chord F5>, <music21.note.Note E->, <music21.chord.Chord F5>, <music21.note.Note E->, <music21.note.Note C#>, <music21.note.Note E->, <music21.note.Note C>, <music21.note.Note C>, <music21.note.Note G#>, <music21.note.Note G#>, <music21.note.Note B->, <music21.note.Note C>, <music21.note.Note G#>, <music21.chord.Chord C#5>, <music21.note.Note E->, <music21.note.Note B->, <music21.chord.Chord F5>, <music21.note.Note B->, <music21.chord.Chord F5>, <music21.note.Note C#>, <music21.note.Note E->, <music21.note.Note E->, <music21.note.Note F>, <music21.note.Note G#>, <music21.note.Note G#>, <music21.note.Note G#>, <music21.note.Note G#>, <music21.note.Note F>, <music21.note.Note E->, <music21.chord.Chord F5>, <music21.note.Note C#>, <music21.note.Note E->, <music21.note.Note E->, <music21.note.Note C>, <music21.note.Note C>, <music21.note.Note G#>, <music21.note.Note G#>, <music21.note.Note B->, <music21.note.Note C>, <music21.note.Note G#>, <music21.chord.Chord C#5>, <music21.note.Note E->, <music21.note.Note B->, <music21.chord.Chord F5>, <music21.note.Note B->, <music21.chord.Chord F5>, <music21.note.Note C#>, <music21.note.Note E->, <music21.note.Note E->]\n"
          ]
        },
        {
          "output_type": "display_data",
          "data": {
            "text/plain": [
              "<IPython.core.display.Javascript object>"
            ],
            "application/javascript": [
              "\n",
              "    async function download(id, filename, size) {\n",
              "      if (!google.colab.kernel.accessAllowed) {\n",
              "        return;\n",
              "      }\n",
              "      const div = document.createElement('div');\n",
              "      const label = document.createElement('label');\n",
              "      label.textContent = `Downloading \"${filename}\": `;\n",
              "      div.appendChild(label);\n",
              "      const progress = document.createElement('progress');\n",
              "      progress.max = size;\n",
              "      div.appendChild(progress);\n",
              "      document.body.appendChild(div);\n",
              "\n",
              "      const buffers = [];\n",
              "      let downloaded = 0;\n",
              "\n",
              "      const channel = await google.colab.kernel.comms.open(id);\n",
              "      // Send a message to notify the kernel that we're ready.\n",
              "      channel.send({})\n",
              "\n",
              "      for await (const message of channel.messages) {\n",
              "        // Send a message to notify the kernel that we're ready.\n",
              "        channel.send({})\n",
              "        if (message.buffers) {\n",
              "          for (const buffer of message.buffers) {\n",
              "            buffers.push(buffer);\n",
              "            downloaded += buffer.byteLength;\n",
              "            progress.value = downloaded;\n",
              "          }\n",
              "        }\n",
              "      }\n",
              "      const blob = new Blob(buffers, {type: 'application/binary'});\n",
              "      const a = document.createElement('a');\n",
              "      a.href = window.URL.createObjectURL(blob);\n",
              "      a.download = filename;\n",
              "      div.appendChild(a);\n",
              "      a.click();\n",
              "      div.remove();\n",
              "    }\n",
              "  "
            ]
          },
          "metadata": {}
        },
        {
          "output_type": "display_data",
          "data": {
            "text/plain": [
              "<IPython.core.display.Javascript object>"
            ],
            "application/javascript": [
              "download(\"download_00686819-7f85-4fdb-8d3f-874fd145874e\", \"test_output.mid\", 599)"
            ]
          },
          "metadata": {}
        }
      ],
      "source": [
        "output_notes = []\n",
        "\n",
        "print(\"Predicted Notes (out_pred):\", out_pred)\n",
        "\n",
        "try:\n",
        "    for offset, pattern in enumerate(out_pred):\n",
        "\n",
        "        if '.' in pattern or pattern.isdigit():\n",
        "            notes_in_chord = pattern.split('.')\n",
        "            parsed_notes = []\n",
        "\n",
        "\n",
        "            for current_note in notes_in_chord:\n",
        "                if current_note.isdigit():\n",
        "                    parsed_note = note.Note(int(current_note))\n",
        "                else:\n",
        "                    parsed_note = note.Note(current_note)\n",
        "                parsed_notes.append(parsed_note)\n",
        "\n",
        "            parsed_notes.sort(key=lambda x: x.pitch.midi)\n",
        "            bass_note = parsed_notes[0]\n",
        "\n",
        "            bass_note.storedInstrument = instrument.Piano()\n",
        "            bass_note.duration = duration.Duration(10.0)\n",
        "            bass_note.offset = offset\n",
        "            output_notes.append(bass_note)\n",
        "\n",
        "            remaining_notes = parsed_notes[1:]\n",
        "            if remaining_notes:\n",
        "                higher_chord = chord.Chord(remaining_notes)\n",
        "                higher_chord.storedInstrument = instrument.Piano()\n",
        "                higher_chord.duration = duration.Duration(1.0)  # Quarter note\n",
        "                higher_chord.offset = offset\n",
        "                output_notes.append(higher_chord)\n",
        "\n",
        "        else:\n",
        "            if pattern.isdigit():\n",
        "                new_note = note.Note(int(pattern))\n",
        "            else:\n",
        "                new_note = note.Note(pattern)\n",
        "\n",
        "            # Treat single notes as bass notes with long duration\n",
        "            new_note.storedInstrument = instrument.Piano()\n",
        "            new_note.duration = duration.Duration(4.0)  # Whole note\n",
        "            new_note.offset = offset\n",
        "            output_notes.append(new_note)\n",
        "\n",
        "except Exception as e:\n",
        "    print(f\"Error during note creation: {e}\")\n",
        "\n",
        "print(\"Generated Notes (output_notes):\", output_notes)\n",
        "\n",
        "midi_stream = stream.Stream(output_notes)\n",
        "midi_stream.write('midi', fp='/content/drive/MyDrive/test_output.mid')\n",
        "\n",
        "# For Google Colab, download the file\n",
        "from google.colab import files\n",
        "files.download('/content/drive/MyDrive/test_output.mid')"
      ]
    }
  ],
  "metadata": {
    "colab": {
      "provenance": [],
      "mount_file_id": "1UhSCIdmfk6JFGZ0kX4XXwfGAJGS8GJfT",
      "authorship_tag": "ABX9TyPlI+ZcDoVzpBRGFsV+XUyc",
      "include_colab_link": true
    },
    "kernelspec": {
      "display_name": "Python 3",
      "name": "python3"
    },
    "language_info": {
      "name": "python"
    }
  },
  "nbformat": 4,
  "nbformat_minor": 0
}